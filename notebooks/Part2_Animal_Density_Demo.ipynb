{
 "cells": [
  {
   "cell_type": "markdown",
   "id": "339920eb-2ece-44d2-946e-d2c2f54ed679",
   "metadata": {},
   "source": [
    "# Part 2: Animal Density Demo\n",
    "\n",
    "If you haven't looked at Part 1 yet, you may want to - it shows how we get our density data all in one place and formatting the way we want so that it's easier to work with here in Part 2. \n",
    "\n",
    "In Part 2, we're going to dive into the worlds of raster and vector data. The purose of this tutorial/notebook is to walk through the steps of computing the average density value within a given polygon area. The polygon areas we'll be working with are offshore wind lease areas. "
   ]
  },
  {
   "cell_type": "code",
   "execution_count": 2,
   "id": "8ece56ed-b49d-4b27-976f-344608cbb71d",
   "metadata": {},
   "outputs": [],
   "source": [
    "# Imports!\n",
    "import rasterio\n",
    "from rasterio.mask import mask\n",
    "import geopandas as gpd\n",
    "import matplotlib.pyplot as plt\n",
    "import numpy as np"
   ]
  },
  {
   "cell_type": "markdown",
   "id": "d54e2d0f-69bc-4526-8daa-e32cf445991b",
   "metadata": {},
   "source": [
    "## Lease Area Shapefiles\n",
    "\n",
    "For this part, you will need to grab the BOEM lease area shapefiles from the [BOEM Renewable Energy GIS Data site](https://www.boem.gov/renewable-energy/mapping-and-data/renewable-energy-gis-data). In particular, we'll be working with the \"Wind Lease Outlines\", which are namded like `Wind_Lease_Outlines_11_16_2023.*`. These will need to be downloaded and then placed into the data/lease_areas folder. Note that one single shapefile actually consists of several files with the same name and different extensions.\n",
    "\n",
    "    |--data\n",
    "        |-- lease_areas\n",
    "            |-- Wind_Lease_Outlines_11_16_2023.prj\n",
    "            |-- Wind_Lease_Outlines_11_16_2023.shp\n",
    "            |-- etc..."
   ]
  },
  {
   "cell_type": "code",
   "execution_count": 7,
   "id": "47100f4a-c287-4a71-8092-4c70468b706d",
   "metadata": {},
   "outputs": [],
   "source": [
    "# Path to the main shapefile (the one with the *.shp extension). Note that this shapefile \n",
    "# contains all of the individual lease area polygons.\n",
    "lease_area_shapefile_path = \"../data/lease_areas/Wind_Lease_Outlines_11_16_2023.shp\"\n",
    "\n",
    "# Import the shapefile to a geodataframe. A geodataframe is a lot \n",
    "gdf_lease_areas_all = gpd.read_file(lease_area_shapefile_path)\n",
    "\n",
    "# Extract a subset that only includes \"Commercial\" lease types on the east coast\n",
    "gdf_lease_areas = gdf_lease_areas_all[(gdf_lease_areas_all['LEASE_TYPE'] == 'Commercial') &\n",
    "                                      (gdf_lease_areas_all['Shape_Area'] > 0.001) &\n",
    "                                      (gdf_lease_areas_all['STATE'] != 'CA') &\n",
    "                                      (gdf_lease_areas_all['STATE'] != 'Louisiana/Texas')]\n",
    "\n",
    "# Lease area selection, hard-coded for testing.\n",
    "lease_area_selection = \"OCS-A 0486 - Revolution Wind, LLC\"\n",
    "\n"
   ]
  },
  {
   "cell_type": "markdown",
   "id": "645096a3-97fa-4c3f-ba55-8d164fc802f8",
   "metadata": {},
   "source": [
    "## Set the buffer size\n",
    "\n",
    "Here's where we're setting the buffer size. This would normally be based on something scientifically/physically meaningful, but here we're just choosing a fairly arbitrary distance as our buffer - 10km. \n"
   ]
  },
  {
   "cell_type": "code",
   "execution_count": 4,
   "id": "92a93b01-fb08-4100-a7e2-301b6fd32bbb",
   "metadata": {},
   "outputs": [],
   "source": [
    "# Buffer size in meters\n",
    "buffer_size = 10000"
   ]
  },
  {
   "cell_type": "markdown",
   "id": "064e1f9d-26be-4cce-95df-27b6fa58be2b",
   "metadata": {},
   "source": [
    "## Point to the raster data\n",
    "\n",
    "Now we need to point to the geotiffs that we created back in Part 1. For this example, we're going to just specify one single geotiff that we'll use as an example (Atlantic spotted dolphin, month 1/January)."
   ]
  },
  {
   "cell_type": "code",
   "execution_count": 8,
   "id": "ab82414e-aeb3-4345-8872-2f548866e71f",
   "metadata": {},
   "outputs": [],
   "source": [
    "# Raster file selection, hard-coded for testing\n",
    "raster_file_path = \"../data/density_geotiffs/Atlantic_spotted_dolphin.month01.tif\"\n"
   ]
  },
  {
   "cell_type": "markdown",
   "id": "7fca0ed3-7165-472b-97cc-1ed5868509ca",
   "metadata": {},
   "source": [
    "## Zonal Statistics\n",
    "\n",
    "The density data and the BOEM polygons are not in the same projection. The density file uses an Albers Equal Area projection while the lease area shapefiles are in geographic coordinates (latitude and longitude). In order to do the zonal stats we'll basically be placing a polygon on the raster, like a cookie cutter, and using that footprint to pick out the \"pixels\" to include in our average. For that to work, the projections need to match. \n",
    "\n",
    "It's a little more straightforward to adjust the projection of the polygon than the geotif, so that's what we'll do. "
   ]
  },
  {
   "cell_type": "code",
   "execution_count": 13,
   "id": "4f879e4a-febd-4816-80f7-1997658b435f",
   "metadata": {},
   "outputs": [],
   "source": [
    "raster_src = rasterio.open(raster_file_path)\n",
    "\n",
    "# Get the CRS (Coordinate Reference System) of the raster data file\n",
    "raster_crs = raster_src.crs\n",
    "\n",
    "# Now reproject the lease area to match the raster data\n",
    "gdf_lease_area_reprojected = gdf_lease_area.to_crs(raster_crs)\n"
   ]
  },
  {
   "cell_type": "code",
   "execution_count": null,
   "id": "93a487ae-7d5c-4caf-8ea5-0b47bb63dc92",
   "metadata": {},
   "outputs": [],
   "source": []
  },
  {
   "cell_type": "code",
   "execution_count": 14,
   "id": "d42c3478-efa4-481a-9f40-c7c87d0abd14",
   "metadata": {},
   "outputs": [],
   "source": [
    "raster_src = rasterio.open(raster_file_path)"
   ]
  },
  {
   "cell_type": "code",
   "execution_count": null,
   "id": "2fcff9de-217d-4955-ba5a-d78a4ce1e4be",
   "metadata": {},
   "outputs": [],
   "source": [
    "# raster_src = rasterio.open\n",
    "\n",
    "# Open the raster data file\n",
    "with rasterio.open(raster_file_path) as raster_src:\n",
    "    # Get the CRS (Coordinate Reference System) of the raster data file\n",
    "    raster_crs = raster_src.crs\n",
    "\n",
    "    # Extract the selected lease area\n",
    "    gdf_selected_lease_area = gdf_lease_areas[gdf_lease_areas['LEASE_NU_1'] == lease_area_selection]\n",
    "\n",
    "    # Reproject the lease area geodatabase\n",
    "    gdf_selected_lease_area_reprojected = gdf_selected_lease_area.to_crs(raster_crs)\n",
    "\n",
    "    # Created a buffered polygon\n",
    "    buffered_lease_area = gdf_selected_lease_area_reprojected.geometry.buffer(buffer_size)\n",
    "\n",
    "    # mask the raster using the selected lease area polygon\n",
    "    out_image, _ = mask(raster_src, buffered_lease_area, crop=True)\n",
    "    raster_data = out_image[0]\n",
    "\n",
    "    # max the buffer area (for plotting color limit extents)\n",
    "    buffered_plot_area = buffered_lease_area.buffer(buffer_size)\n",
    "    out_image_for_plotting, _ = mask(raster_src, buffered_plot_area, crop=True)\n",
    "    raster_plot_area = out_image_for_plotting[0]\n",
    "\n",
    "    # Compute the mean, excluding no data values (assuming they are np.nan or a defined no data value for your raster)\n",
    "    no_data_value = raster_src.nodata  # Get no data value from raster metadata if available\n",
    "    if no_data_value is not None:\n",
    "        # Mean value within the buffer area\n",
    "        mean_value = np.mean(raster_data[raster_data != no_data_value])\n",
    "        # For plot color extents\n",
    "        min_value = np.min(raster_plot_area[raster_plot_area != no_data_value])\n",
    "        max_value = np.max(raster_plot_area[raster_plot_area != no_data_value])\n",
    "    else:\n",
    "        # Mean value within the buffer area\n",
    "        mean_value = np.mean(raster_data[np.isfinite(raster_data)])\n",
    "        # For plot color extents\n",
    "        min_value = np.min(raster_plot_area[np.isfinite(raster_plot_area)])\n",
    "        max_value = np.max(raster_plot_area[np.isfinite(raster_plot_area)])\n",
    "\n",
    "    # ############################################################################################### #\n",
    "    # ---------- Quickly plot the raster with the polygon, just to check that it looks reasonable --- #\n",
    "    fig, ax = plt.subplots(figsize=(7, 7), constrained_layout=True)\n",
    "\n",
    "    # Get the bounds of the buffered polygon for zooming in the plot\n",
    "    minx, miny, maxx, maxy = buffered_lease_area.iloc[0].bounds\n",
    "    # Add a buffer around the polygon for spacing in the plot\n",
    "    plot_buffer_size = maxx - minx\n",
    "\n",
    "    im = ax.imshow(raster_data, cmap='viridis', vmin=min_value, vmax=max_value,\n",
    "                   extent=[minx - plot_buffer_size, maxx + plot_buffer_size,\n",
    "                           miny - plot_buffer_size, maxy + plot_buffer_size], origin='upper')\n",
    "\n",
    "    ax.set_aspect('equal')\n",
    "    ax.set_xlabel('Eastings (m)')\n",
    "    ax.set_ylabel('Northings (m)')\n",
    "    ax.set_title(lease_area_selection + \" - \" +\n",
    "                 f\"{buffer_size/1000:.0f}-km buffer\\n\"\n",
    "                 f\"Mean density inside buffer: \" + f\"{mean_value:.0e} \"\n",
    "                 f\"animals per 100 km$^2$\")\n",
    "\n",
    "    # Overlay the polygon(s) from the GeoDataFrame\n",
    "    gdf_selected_lease_area_reprojected.plot(ax=ax, facecolor='none', edgecolor='red', linewidth=2)\n",
    "\n",
    "    # Overlay the buffered polygon\n",
    "    buffered_lease_area.plot(ax=ax, facecolor='none', edgecolor='red', linewidth=2, linestyle='--')\n",
    "\n",
    "    # Add colorbar\n",
    "    cbar = fig.colorbar(im, ax=ax, fraction=0.036, pad=0.04)\n",
    "\n",
    "    # Label the colorbar\n",
    "    cbar.set_label('Density (animals/100 km$^2$)', rotation=270, labelpad=15)\n",
    "\n",
    "    buffer_plot_folder = \"images/density_buffer_plots\"\n",
    "\n",
    "    plt.savefig(buffer_plot_folder + \"/example_buffer_plot.png\", bbox_inches='tight')\n"
   ]
  }
 ],
 "metadata": {
  "kernelspec": {
   "display_name": "Python 3 (ipykernel)",
   "language": "python",
   "name": "python3"
  },
  "language_info": {
   "codemirror_mode": {
    "name": "ipython",
    "version": 3
   },
   "file_extension": ".py",
   "mimetype": "text/x-python",
   "name": "python",
   "nbconvert_exporter": "python",
   "pygments_lexer": "ipython3",
   "version": "3.11.6"
  }
 },
 "nbformat": 4,
 "nbformat_minor": 5
}
